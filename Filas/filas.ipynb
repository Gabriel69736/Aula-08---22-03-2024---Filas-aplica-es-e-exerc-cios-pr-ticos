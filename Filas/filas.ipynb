{
 "cells": [
  {
   "cell_type": "markdown",
   "metadata": {},
   "source": [
    "# Implementação de Fila"
   ]
  },
  {
   "cell_type": "markdown",
   "metadata": {},
   "source": [
    "# Nó da fila"
   ]
  },
  {
   "cell_type": "code",
   "execution_count": 2,
   "metadata": {},
   "outputs": [],
   "source": [
    "class Node:\n",
    "    def __init__(self, value):\n",
    "        self.value = value\n",
    "        self.next = None"
   ]
  },
  {
   "cell_type": "markdown",
   "metadata": {},
   "source": [
    "# Fila"
   ]
  },
  {
   "cell_type": "code",
   "execution_count": 10,
   "metadata": {},
   "outputs": [],
   "source": [
    "class Queue:\n",
    "    def __init__(self):\n",
    "        self.front = None\n",
    "        self.rear = None\n",
    "    \n",
    "    # Inclusão de elementos na fila\n",
    "    def enqueue(self, value):\n",
    "        new_node = Node(value)\n",
    "\n",
    "        if self.front == None:\n",
    "            self.front = self.rear = new_node\n",
    "            return\n",
    "        self.rear.next = new_node\n",
    "        self.rear = new_node\n",
    "\n",
    "    # Remoção de elemnto da fila\n",
    "    def dequeue(self):\n",
    "        if self.front == None:\n",
    "            raise Exception(\"Queue is empty\")\n",
    "        temp = self.front\n",
    "        self.front = self.front.next\n",
    "        if self.front == None:\n",
    "            self.rear = None\n",
    "        return temp.value\n",
    "\n",
    "    # Acessa o primeiro elemento da fila\n",
    "    def peek(self):\n",
    "        if self.front == None:\n",
    "            raise Exception(\"Queue is empty\")\n",
    "        return self.front.value\n",
    "    \n",
    "    # Verifica se a fila está vazia\n",
    "    def is_empty(self):\n",
    "        return self.front == None\n",
    "\n",
    "    # Exibe a fila\n",
    "    def display_queue(self):\n",
    "        current = self.front\n",
    "        while current != None:\n",
    "            print(current.value, end=\" \")\n",
    "            current = current.next"
   ]
  },
  {
   "cell_type": "code",
   "execution_count": null,
   "metadata": {},
   "outputs": [],
   "source": [
    "#Aula 08 - 22/03/2024 - Filas: aplicações e exercícios práticos\n",
    "\n",
    "\n",
    "class Node:\n",
    "    def __init__(self, value):\n",
    "        self.value = value\n",
    "        self.next = None\n",
    "\n",
    "class Queue:\n",
    "    def __init__(self):\n",
    "        self.front = None\n",
    "        self.rear = None\n",
    "    \n",
    "    # Inclusão de elementos na fila\n",
    "    def enqueue(self, value):\n",
    "        new_node = Node(value)\n",
    "\n",
    "        if self.front == None:\n",
    "            self.front = self.rear = new_node\n",
    "            return\n",
    "        self.rear.next = new_node\n",
    "        self.rear = new_node\n",
    "\n",
    "    # Remoção de elemento da fila\n",
    "    def dequeue(self):\n",
    "        if self.front == None:\n",
    "            raise Exception(\"Queue is empty\")\n",
    "        temp = self.front\n",
    "        self.front = self.front.next\n",
    "        if self.front == None:\n",
    "            self.rear = None\n",
    "        return temp.value\n",
    "\n",
    "    # Acessa o primeiro elemento da fila\n",
    "    def peek(self):\n",
    "        if self.front == None:\n",
    "            raise Exception(\"Queue is empty\")\n",
    "        return self.front.value\n",
    "    \n",
    "    # Verifica se a fila está vazia\n",
    "    def is_empty(self):\n",
    "        return self.front == None\n",
    "\n",
    "    # Exibe a fila\n",
    "    def display_queue(self):\n",
    "        current = self.front\n",
    "        while current != None:\n",
    "            print(current.value, end=\" \")\n",
    "            current = current.next\n",
    "\n",
    "# Criando uma instância da fila\n",
    "q = Queue()\n",
    "\n",
    "# Enfileirando elementos\n",
    "q.enqueue(1)\n",
    "q.enqueue(2)\n",
    "q.enqueue(3)\n",
    "\n",
    "# Exibindo o estado atual da fila\n",
    "print(\"Queue after initial enqueues:\")\n",
    "q.display_queue()\n",
    "\n",
    "# Adicionando mais elementos à fila\n",
    "q.enqueue(4)\n",
    "q.enqueue(5)\n",
    "q.enqueue(6)\n",
    "\n",
    "# Exibindo o estado atual da fila após novos enqueues\n",
    "print(\"\\nQueue after new enqueues:\")\n",
    "q.display_queue()\n",
    "\n",
    "# Desenfileirando elementos\n",
    "q.dequeue()\n",
    "q.dequeue()\n",
    "\n",
    "# Exibindo o estado da fila após desenfileirar elementos\n",
    "print(\"\\nQueue after dequeues:\")\n",
    "q.display_queue()\n",
    "\n",
    "# Visualizando o primeiro elemento da fila após as remoções\n",
    "print(\"\\nPeek at the first element:\", q.peek())\n",
    "\n",
    "# Verificando se a fila está vazia\n",
    "if q.is_empty():\n",
    "    print(\"\\nQueue is empty\")\n",
    "else:\n",
    "    print(\"\\nQueue is not empty\")"
   ]
  },
  {
   "cell_type": "markdown",
   "metadata": {},
   "source": [
    "# Teste de uso da fila"
   ]
  },
  {
   "cell_type": "code",
   "execution_count": 11,
   "metadata": {},
   "outputs": [],
   "source": [
    "q =Queue()\n",
    "\n",
    "q.enqueue(10)\n",
    "q.enqueue(20)\n",
    "q.enqueue(30)\n",
    "q.enqueue(40)\n",
    "\n",
    "# Exibe a fila\n",
    "# q.display_queue()"
   ]
  },
  {
   "cell_type": "code",
   "execution_count": 12,
   "metadata": {},
   "outputs": [
    {
     "name": "stdout",
     "output_type": "stream",
     "text": [
      "10 20 30 40 "
     ]
    }
   ],
   "source": [
    "q.display_queue()"
   ]
  },
  {
   "cell_type": "code",
   "execution_count": 8,
   "metadata": {},
   "outputs": [
    {
     "data": {
      "text/plain": [
       "20"
      ]
     },
     "execution_count": 8,
     "metadata": {},
     "output_type": "execute_result"
    }
   ],
   "source": [
    "q.peek()"
   ]
  },
  {
   "cell_type": "code",
   "execution_count": 7,
   "metadata": {},
   "outputs": [
    {
     "data": {
      "text/plain": [
       "10"
      ]
     },
     "execution_count": 7,
     "metadata": {},
     "output_type": "execute_result"
    }
   ],
   "source": [
    "q.dequeue()"
   ]
  },
  {
   "cell_type": "code",
   "execution_count": 13,
   "metadata": {},
   "outputs": [
    {
     "data": {
      "text/plain": [
       "False"
      ]
     },
     "execution_count": 13,
     "metadata": {},
     "output_type": "execute_result"
    }
   ],
   "source": [
    "q.is_empty()"
   ]
  },
  {
   "cell_type": "code",
   "execution_count": null,
   "metadata": {},
   "outputs": [],
   "source": []
  }
 ],
 "metadata": {
  "kernelspec": {
   "display_name": "Python 3",
   "language": "python",
   "name": "python3"
  },
  "language_info": {
   "codemirror_mode": {
    "name": "ipython",
    "version": 3
   },
   "file_extension": ".py",
   "mimetype": "text/x-python",
   "name": "python",
   "nbconvert_exporter": "python",
   "pygments_lexer": "ipython3",
   "version": "3.11.4"
  }
 },
 "nbformat": 4,
 "nbformat_minor": 2
}
